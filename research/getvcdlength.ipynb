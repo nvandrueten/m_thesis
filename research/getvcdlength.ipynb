{
 "cells": [
  {
   "cell_type": "code",
   "execution_count": 1,
   "id": "7d359bee-2319-4402-84a2-f411d2e99a3d",
   "metadata": {},
   "outputs": [
    {
     "name": "stdout",
     "output_type": "stream",
     "text": [
      "/media/niels/Elements/research/vcd_files/sha3\n",
      "/media/niels/Elements/research/vcd_files/sha3/round_141.vcd\n",
      "Opening file: /media/niels/Elements/research/vcd_files/sha3/round_141.vcd\n",
      "Opening file: /media/niels/Elements/research/vcd_files/sha3/round_141.vcd successful\n",
      "252950\n"
     ]
    }
   ],
   "source": [
    "from file_handler import open_VCD\n",
    "import os\n",
    "import configparser\n",
    "\n",
    "config = configparser.ConfigParser()\n",
    "config.read('config.ini')\n",
    "\n",
    "VCD_FILE_BASEPATH = config[\"DEFAULT\"][\"VCD_FILE_BASEPATH\"]\n",
    "VCD_FILE_FORMAT = config[\"DEFAULT\"][\"VCD_FILE_FORMAT\"]\n",
    "\n",
    "METHOD = config[\"DEFAULT\"][\"METHOD\"]\n",
    "ALGORITHM = config[\"DEFAULT\"][\"ALGORITHM\"]\n",
    "\n",
    "path = os.path.join(VCD_FILE_BASEPATH, ALGORITHM)\n",
    "print(path)\n",
    "if METHOD == \"tvla\" and config[\"DEFAULT\"].getboolean(\"tvla_fixed\"):\n",
    "    path = os.path.join(path, \"tvla_fixed\") \n",
    "\n",
    "filenr = 0    \n",
    "if METHOD == \"svf\":\n",
    "    if ALGORITHM == \"aes\":\n",
    "        filenr = 152\n",
    "    elif ALGORITHM == \"des\":\n",
    "        filenr = 241\n",
    "    elif ALGORITHM == \"des2\":\n",
    "        filenr = 205\n",
    "    elif ALGORITHM == \"sha3\":\n",
    "        filenr = 141\n",
    "path = os.path.join(path, VCD_FILE_FORMAT.format(filenr))\n",
    "print(path)\n",
    "vcd = open_VCD(path)\n",
    "print(vcd.endtime)"
   ]
  }
 ],
 "metadata": {
  "kernelspec": {
   "display_name": "Python 3",
   "language": "python",
   "name": "python3"
  },
  "language_info": {
   "codemirror_mode": {
    "name": "ipython",
    "version": 3
   },
   "file_extension": ".py",
   "mimetype": "text/x-python",
   "name": "python",
   "nbconvert_exporter": "python",
   "pygments_lexer": "ipython3",
   "version": "3.7.0"
  }
 },
 "nbformat": 4,
 "nbformat_minor": 5
}
