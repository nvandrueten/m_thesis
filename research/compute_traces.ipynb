{
 "cells": [
  {
   "cell_type": "code",
   "execution_count": 1,
   "id": "71db5e22-a24d-4c4f-98a9-3458c0c3ae8c",
   "metadata": {},
   "outputs": [
    {
     "name": "stdout",
     "output_type": "stream",
     "text": [
      "[INFO] VCD files: 32\n",
      "[INFO] VCD timestamps: from 0 to 252950\n",
      "[INFO] Number of cores: 2\n",
      "[INFO] Storing traces in directory: /home/niels/research/traces/2021_12_21__14_48_56\n",
      "[INFO] Accessing vcd files in directory: /home/niels/research/vcd_files/sha3\n",
      "[INFO] Modules: 1\n",
      "Starting processes.\n",
      "Opening file: /home/niels/research/vcd_files/sha3/round_0.vcd\n",
      "Opening file: /home/niels/research/vcd_files/sha3/round_1.vcd\n",
      "Opening file: /home/niels/research/vcd_files/sha3/round_1.vcd successful\n"
     ]
    },
    {
     "data": {
      "application/vnd.jupyter.widget-view+json": {
       "model_id": "",
       "version_major": 2,
       "version_minor": 0
      },
      "text/plain": [
       "Modules completed:   0%|          | 0/1 [00:00<?, ?it/s]"
      ]
     },
     "metadata": {},
     "output_type": "display_data"
    },
    {
     "data": {
      "application/vnd.jupyter.widget-view+json": {
       "model_id": "",
       "version_major": 2,
       "version_minor": 0
      },
      "text/plain": [
       "Signals completed:   0%|          | 0/35 [00:00<?, ?it/s]"
      ]
     },
     "metadata": {},
     "output_type": "display_data"
    },
    {
     "name": "stdout",
     "output_type": "stream",
     "text": [
      "Opening file: /home/niels/research/vcd_files/sha3/round_0.vcd successful\n"
     ]
    },
    {
     "data": {
      "application/vnd.jupyter.widget-view+json": {
       "model_id": "",
       "version_major": 2,
       "version_minor": 0
      },
      "text/plain": [
       "Modules completed:   0%|          | 0/1 [00:00<?, ?it/s]"
      ]
     },
     "metadata": {},
     "output_type": "display_data"
    },
    {
     "data": {
      "application/vnd.jupyter.widget-view+json": {
       "model_id": "",
       "version_major": 2,
       "version_minor": 0
      },
      "text/plain": [
       "Signals completed:   0%|          | 0/35 [00:00<?, ?it/s]"
      ]
     },
     "metadata": {},
     "output_type": "display_data"
    },
    {
     "name": "stdout",
     "output_type": "stream",
     "text": [
      "Opening file: /home/niels/research/vcd_files/sha3/round_2.vcd\n",
      "Opening file: /home/niels/research/vcd_files/sha3/round_3.vcd\n",
      "Opening file: /home/niels/research/vcd_files/sha3/round_2.vcd successful\n"
     ]
    },
    {
     "data": {
      "application/vnd.jupyter.widget-view+json": {
       "model_id": "",
       "version_major": 2,
       "version_minor": 0
      },
      "text/plain": [
       "Modules completed:   0%|          | 0/1 [00:00<?, ?it/s]"
      ]
     },
     "metadata": {},
     "output_type": "display_data"
    },
    {
     "data": {
      "application/vnd.jupyter.widget-view+json": {
       "model_id": "",
       "version_major": 2,
       "version_minor": 0
      },
      "text/plain": [
       "Signals completed:   0%|          | 0/35 [00:00<?, ?it/s]"
      ]
     },
     "metadata": {},
     "output_type": "display_data"
    },
    {
     "name": "stdout",
     "output_type": "stream",
     "text": [
      "Opening file: /home/niels/research/vcd_files/sha3/round_3.vcd successful\n"
     ]
    },
    {
     "data": {
      "application/vnd.jupyter.widget-view+json": {
       "model_id": "",
       "version_major": 2,
       "version_minor": 0
      },
      "text/plain": [
       "Modules completed:   0%|          | 0/1 [00:00<?, ?it/s]"
      ]
     },
     "metadata": {},
     "output_type": "display_data"
    },
    {
     "data": {
      "application/vnd.jupyter.widget-view+json": {
       "model_id": "",
       "version_major": 2,
       "version_minor": 0
      },
      "text/plain": [
       "Signals completed:   0%|          | 0/35 [00:00<?, ?it/s]"
      ]
     },
     "metadata": {},
     "output_type": "display_data"
    },
    {
     "name": "stdout",
     "output_type": "stream",
     "text": [
      "Opening file: /home/niels/research/vcd_files/sha3/round_4.vcd\n",
      "Opening file: /home/niels/research/vcd_files/sha3/round_5.vcd\n",
      "Opening file: /home/niels/research/vcd_files/sha3/round_5.vcd successful\n"
     ]
    },
    {
     "data": {
      "application/vnd.jupyter.widget-view+json": {
       "model_id": "",
       "version_major": 2,
       "version_minor": 0
      },
      "text/plain": [
       "Modules completed:   0%|          | 0/1 [00:00<?, ?it/s]"
      ]
     },
     "metadata": {},
     "output_type": "display_data"
    },
    {
     "data": {
      "application/vnd.jupyter.widget-view+json": {
       "model_id": "",
       "version_major": 2,
       "version_minor": 0
      },
      "text/plain": [
       "Signals completed:   0%|          | 0/35 [00:00<?, ?it/s]"
      ]
     },
     "metadata": {},
     "output_type": "display_data"
    },
    {
     "name": "stdout",
     "output_type": "stream",
     "text": [
      "Opening file: /home/niels/research/vcd_files/sha3/round_4.vcd successful\n"
     ]
    },
    {
     "data": {
      "application/vnd.jupyter.widget-view+json": {
       "model_id": "",
       "version_major": 2,
       "version_minor": 0
      },
      "text/plain": [
       "Modules completed:   0%|          | 0/1 [00:00<?, ?it/s]"
      ]
     },
     "metadata": {},
     "output_type": "display_data"
    },
    {
     "data": {
      "application/vnd.jupyter.widget-view+json": {
       "model_id": "",
       "version_major": 2,
       "version_minor": 0
      },
      "text/plain": [
       "Signals completed:   0%|          | 0/35 [00:00<?, ?it/s]"
      ]
     },
     "metadata": {},
     "output_type": "display_data"
    },
    {
     "name": "stdout",
     "output_type": "stream",
     "text": [
      "Opening file: /home/niels/research/vcd_files/sha3/round_6.vcd\n",
      "Opening file: /home/niels/research/vcd_files/sha3/round_7.vcd\n",
      "Opening file: /home/niels/research/vcd_files/sha3/round_6.vcd successful\n"
     ]
    },
    {
     "data": {
      "application/vnd.jupyter.widget-view+json": {
       "model_id": "",
       "version_major": 2,
       "version_minor": 0
      },
      "text/plain": [
       "Modules completed:   0%|          | 0/1 [00:00<?, ?it/s]"
      ]
     },
     "metadata": {},
     "output_type": "display_data"
    },
    {
     "data": {
      "application/vnd.jupyter.widget-view+json": {
       "model_id": "",
       "version_major": 2,
       "version_minor": 0
      },
      "text/plain": [
       "Signals completed:   0%|          | 0/35 [00:00<?, ?it/s]"
      ]
     },
     "metadata": {},
     "output_type": "display_data"
    },
    {
     "name": "stdout",
     "output_type": "stream",
     "text": [
      "Opening file: /home/niels/research/vcd_files/sha3/round_7.vcd successful\n"
     ]
    },
    {
     "data": {
      "application/vnd.jupyter.widget-view+json": {
       "model_id": "",
       "version_major": 2,
       "version_minor": 0
      },
      "text/plain": [
       "Modules completed:   0%|          | 0/1 [00:00<?, ?it/s]"
      ]
     },
     "metadata": {},
     "output_type": "display_data"
    },
    {
     "data": {
      "application/vnd.jupyter.widget-view+json": {
       "model_id": "",
       "version_major": 2,
       "version_minor": 0
      },
      "text/plain": [
       "Signals completed:   0%|          | 0/35 [00:00<?, ?it/s]"
      ]
     },
     "metadata": {},
     "output_type": "display_data"
    },
    {
     "name": "stdout",
     "output_type": "stream",
     "text": [
      "Opening file: /home/niels/research/vcd_files/sha3/round_8.vcd\n",
      "Opening file: /home/niels/research/vcd_files/sha3/round_9.vcd\n",
      "Opening file: /home/niels/research/vcd_files/sha3/round_9.vcd successful\n"
     ]
    },
    {
     "data": {
      "application/vnd.jupyter.widget-view+json": {
       "model_id": "",
       "version_major": 2,
       "version_minor": 0
      },
      "text/plain": [
       "Modules completed:   0%|          | 0/1 [00:00<?, ?it/s]"
      ]
     },
     "metadata": {},
     "output_type": "display_data"
    },
    {
     "data": {
      "application/vnd.jupyter.widget-view+json": {
       "model_id": "",
       "version_major": 2,
       "version_minor": 0
      },
      "text/plain": [
       "Signals completed:   0%|          | 0/35 [00:00<?, ?it/s]"
      ]
     },
     "metadata": {},
     "output_type": "display_data"
    },
    {
     "name": "stdout",
     "output_type": "stream",
     "text": [
      "Opening file: /home/niels/research/vcd_files/sha3/round_8.vcd successful\n"
     ]
    },
    {
     "data": {
      "application/vnd.jupyter.widget-view+json": {
       "model_id": "",
       "version_major": 2,
       "version_minor": 0
      },
      "text/plain": [
       "Modules completed:   0%|          | 0/1 [00:00<?, ?it/s]"
      ]
     },
     "metadata": {},
     "output_type": "display_data"
    },
    {
     "data": {
      "application/vnd.jupyter.widget-view+json": {
       "model_id": "",
       "version_major": 2,
       "version_minor": 0
      },
      "text/plain": [
       "Signals completed:   0%|          | 0/35 [00:00<?, ?it/s]"
      ]
     },
     "metadata": {},
     "output_type": "display_data"
    },
    {
     "name": "stdout",
     "output_type": "stream",
     "text": [
      "Opening file: /home/niels/research/vcd_files/sha3/round_10.vcd\n",
      "Opening file: /home/niels/research/vcd_files/sha3/round_11.vcd\n",
      "Opening file: /home/niels/research/vcd_files/sha3/round_10.vcd successful\n"
     ]
    },
    {
     "data": {
      "application/vnd.jupyter.widget-view+json": {
       "model_id": "",
       "version_major": 2,
       "version_minor": 0
      },
      "text/plain": [
       "Modules completed:   0%|          | 0/1 [00:00<?, ?it/s]"
      ]
     },
     "metadata": {},
     "output_type": "display_data"
    },
    {
     "data": {
      "application/vnd.jupyter.widget-view+json": {
       "model_id": "",
       "version_major": 2,
       "version_minor": 0
      },
      "text/plain": [
       "Signals completed:   0%|          | 0/35 [00:00<?, ?it/s]"
      ]
     },
     "metadata": {},
     "output_type": "display_data"
    },
    {
     "name": "stdout",
     "output_type": "stream",
     "text": [
      "Opening file: /home/niels/research/vcd_files/sha3/round_11.vcd successful\n"
     ]
    },
    {
     "data": {
      "application/vnd.jupyter.widget-view+json": {
       "model_id": "",
       "version_major": 2,
       "version_minor": 0
      },
      "text/plain": [
       "Modules completed:   0%|          | 0/1 [00:00<?, ?it/s]"
      ]
     },
     "metadata": {},
     "output_type": "display_data"
    },
    {
     "data": {
      "application/vnd.jupyter.widget-view+json": {
       "model_id": "",
       "version_major": 2,
       "version_minor": 0
      },
      "text/plain": [
       "Signals completed:   0%|          | 0/35 [00:00<?, ?it/s]"
      ]
     },
     "metadata": {},
     "output_type": "display_data"
    },
    {
     "name": "stdout",
     "output_type": "stream",
     "text": [
      "Opening file: /home/niels/research/vcd_files/sha3/round_12.vcd\n",
      "Opening file: /home/niels/research/vcd_files/sha3/round_13.vcd\n",
      "Opening file: /home/niels/research/vcd_files/sha3/round_12.vcd successful\n"
     ]
    },
    {
     "data": {
      "application/vnd.jupyter.widget-view+json": {
       "model_id": "",
       "version_major": 2,
       "version_minor": 0
      },
      "text/plain": [
       "Modules completed:   0%|          | 0/1 [00:00<?, ?it/s]"
      ]
     },
     "metadata": {},
     "output_type": "display_data"
    },
    {
     "data": {
      "application/vnd.jupyter.widget-view+json": {
       "model_id": "",
       "version_major": 2,
       "version_minor": 0
      },
      "text/plain": [
       "Signals completed:   0%|          | 0/35 [00:00<?, ?it/s]"
      ]
     },
     "metadata": {},
     "output_type": "display_data"
    },
    {
     "name": "stdout",
     "output_type": "stream",
     "text": [
      "Opening file: /home/niels/research/vcd_files/sha3/round_13.vcd successful\n"
     ]
    },
    {
     "data": {
      "application/vnd.jupyter.widget-view+json": {
       "model_id": "",
       "version_major": 2,
       "version_minor": 0
      },
      "text/plain": [
       "Modules completed:   0%|          | 0/1 [00:00<?, ?it/s]"
      ]
     },
     "metadata": {},
     "output_type": "display_data"
    },
    {
     "data": {
      "application/vnd.jupyter.widget-view+json": {
       "model_id": "",
       "version_major": 2,
       "version_minor": 0
      },
      "text/plain": [
       "Signals completed:   0%|          | 0/35 [00:00<?, ?it/s]"
      ]
     },
     "metadata": {},
     "output_type": "display_data"
    },
    {
     "name": "stdout",
     "output_type": "stream",
     "text": [
      "Opening file: /home/niels/research/vcd_files/sha3/round_14.vcd\n",
      "Opening file: /home/niels/research/vcd_files/sha3/round_15.vcd\n",
      "Opening file: /home/niels/research/vcd_files/sha3/round_14.vcd successful\n"
     ]
    },
    {
     "data": {
      "application/vnd.jupyter.widget-view+json": {
       "model_id": "",
       "version_major": 2,
       "version_minor": 0
      },
      "text/plain": [
       "Modules completed:   0%|          | 0/1 [00:00<?, ?it/s]"
      ]
     },
     "metadata": {},
     "output_type": "display_data"
    },
    {
     "data": {
      "application/vnd.jupyter.widget-view+json": {
       "model_id": "",
       "version_major": 2,
       "version_minor": 0
      },
      "text/plain": [
       "Signals completed:   0%|          | 0/35 [00:00<?, ?it/s]"
      ]
     },
     "metadata": {},
     "output_type": "display_data"
    },
    {
     "name": "stdout",
     "output_type": "stream",
     "text": [
      "Opening file: /home/niels/research/vcd_files/sha3/round_15.vcd successful\n"
     ]
    },
    {
     "data": {
      "application/vnd.jupyter.widget-view+json": {
       "model_id": "",
       "version_major": 2,
       "version_minor": 0
      },
      "text/plain": [
       "Modules completed:   0%|          | 0/1 [00:00<?, ?it/s]"
      ]
     },
     "metadata": {},
     "output_type": "display_data"
    },
    {
     "data": {
      "application/vnd.jupyter.widget-view+json": {
       "model_id": "",
       "version_major": 2,
       "version_minor": 0
      },
      "text/plain": [
       "Signals completed:   0%|          | 0/35 [00:00<?, ?it/s]"
      ]
     },
     "metadata": {},
     "output_type": "display_data"
    },
    {
     "name": "stdout",
     "output_type": "stream",
     "text": [
      "Opening file: /home/niels/research/vcd_files/sha3/round_16.vcd\n",
      "Opening file: /home/niels/research/vcd_files/sha3/round_17.vcd\n",
      "Opening file: /home/niels/research/vcd_files/sha3/round_16.vcd successful\n"
     ]
    },
    {
     "data": {
      "application/vnd.jupyter.widget-view+json": {
       "model_id": "",
       "version_major": 2,
       "version_minor": 0
      },
      "text/plain": [
       "Modules completed:   0%|          | 0/1 [00:00<?, ?it/s]"
      ]
     },
     "metadata": {},
     "output_type": "display_data"
    },
    {
     "data": {
      "application/vnd.jupyter.widget-view+json": {
       "model_id": "",
       "version_major": 2,
       "version_minor": 0
      },
      "text/plain": [
       "Signals completed:   0%|          | 0/35 [00:00<?, ?it/s]"
      ]
     },
     "metadata": {},
     "output_type": "display_data"
    },
    {
     "name": "stdout",
     "output_type": "stream",
     "text": [
      "Opening file: /home/niels/research/vcd_files/sha3/round_17.vcd successful\n"
     ]
    },
    {
     "data": {
      "application/vnd.jupyter.widget-view+json": {
       "model_id": "",
       "version_major": 2,
       "version_minor": 0
      },
      "text/plain": [
       "Modules completed:   0%|          | 0/1 [00:00<?, ?it/s]"
      ]
     },
     "metadata": {},
     "output_type": "display_data"
    },
    {
     "data": {
      "application/vnd.jupyter.widget-view+json": {
       "model_id": "",
       "version_major": 2,
       "version_minor": 0
      },
      "text/plain": [
       "Signals completed:   0%|          | 0/35 [00:00<?, ?it/s]"
      ]
     },
     "metadata": {},
     "output_type": "display_data"
    },
    {
     "name": "stdout",
     "output_type": "stream",
     "text": [
      "Opening file: /home/niels/research/vcd_files/sha3/round_18.vcd\n",
      "Opening file: /home/niels/research/vcd_files/sha3/round_19.vcd\n",
      "Opening file: /home/niels/research/vcd_files/sha3/round_18.vcd successful\n"
     ]
    },
    {
     "data": {
      "application/vnd.jupyter.widget-view+json": {
       "model_id": "",
       "version_major": 2,
       "version_minor": 0
      },
      "text/plain": [
       "Modules completed:   0%|          | 0/1 [00:00<?, ?it/s]"
      ]
     },
     "metadata": {},
     "output_type": "display_data"
    },
    {
     "data": {
      "application/vnd.jupyter.widget-view+json": {
       "model_id": "",
       "version_major": 2,
       "version_minor": 0
      },
      "text/plain": [
       "Signals completed:   0%|          | 0/35 [00:00<?, ?it/s]"
      ]
     },
     "metadata": {},
     "output_type": "display_data"
    },
    {
     "name": "stdout",
     "output_type": "stream",
     "text": [
      "Opening file: /home/niels/research/vcd_files/sha3/round_19.vcd successful\n"
     ]
    },
    {
     "data": {
      "application/vnd.jupyter.widget-view+json": {
       "model_id": "",
       "version_major": 2,
       "version_minor": 0
      },
      "text/plain": [
       "Modules completed:   0%|          | 0/1 [00:00<?, ?it/s]"
      ]
     },
     "metadata": {},
     "output_type": "display_data"
    },
    {
     "data": {
      "application/vnd.jupyter.widget-view+json": {
       "model_id": "",
       "version_major": 2,
       "version_minor": 0
      },
      "text/plain": [
       "Signals completed:   0%|          | 0/35 [00:00<?, ?it/s]"
      ]
     },
     "metadata": {},
     "output_type": "display_data"
    },
    {
     "name": "stdout",
     "output_type": "stream",
     "text": [
      "Opening file: /home/niels/research/vcd_files/sha3/round_20.vcd\n",
      "Opening file: /home/niels/research/vcd_files/sha3/round_21.vcd\n",
      "Opening file: /home/niels/research/vcd_files/sha3/round_20.vcd successful\n"
     ]
    },
    {
     "data": {
      "application/vnd.jupyter.widget-view+json": {
       "model_id": "",
       "version_major": 2,
       "version_minor": 0
      },
      "text/plain": [
       "Modules completed:   0%|          | 0/1 [00:00<?, ?it/s]"
      ]
     },
     "metadata": {},
     "output_type": "display_data"
    },
    {
     "data": {
      "application/vnd.jupyter.widget-view+json": {
       "model_id": "",
       "version_major": 2,
       "version_minor": 0
      },
      "text/plain": [
       "Signals completed:   0%|          | 0/35 [00:00<?, ?it/s]"
      ]
     },
     "metadata": {},
     "output_type": "display_data"
    },
    {
     "name": "stdout",
     "output_type": "stream",
     "text": [
      "Opening file: /home/niels/research/vcd_files/sha3/round_21.vcd successful\n"
     ]
    },
    {
     "data": {
      "application/vnd.jupyter.widget-view+json": {
       "model_id": "",
       "version_major": 2,
       "version_minor": 0
      },
      "text/plain": [
       "Modules completed:   0%|          | 0/1 [00:00<?, ?it/s]"
      ]
     },
     "metadata": {},
     "output_type": "display_data"
    },
    {
     "data": {
      "application/vnd.jupyter.widget-view+json": {
       "model_id": "",
       "version_major": 2,
       "version_minor": 0
      },
      "text/plain": [
       "Signals completed:   0%|          | 0/35 [00:00<?, ?it/s]"
      ]
     },
     "metadata": {},
     "output_type": "display_data"
    },
    {
     "name": "stdout",
     "output_type": "stream",
     "text": [
      "Opening file: /home/niels/research/vcd_files/sha3/round_22.vcd\n",
      "Opening file: /home/niels/research/vcd_files/sha3/round_23.vcd\n",
      "Opening file: /home/niels/research/vcd_files/sha3/round_22.vcd successful\n"
     ]
    },
    {
     "data": {
      "application/vnd.jupyter.widget-view+json": {
       "model_id": "",
       "version_major": 2,
       "version_minor": 0
      },
      "text/plain": [
       "Modules completed:   0%|          | 0/1 [00:00<?, ?it/s]"
      ]
     },
     "metadata": {},
     "output_type": "display_data"
    },
    {
     "data": {
      "application/vnd.jupyter.widget-view+json": {
       "model_id": "",
       "version_major": 2,
       "version_minor": 0
      },
      "text/plain": [
       "Signals completed:   0%|          | 0/35 [00:00<?, ?it/s]"
      ]
     },
     "metadata": {},
     "output_type": "display_data"
    },
    {
     "name": "stdout",
     "output_type": "stream",
     "text": [
      "Opening file: /home/niels/research/vcd_files/sha3/round_23.vcd successful\n"
     ]
    },
    {
     "data": {
      "application/vnd.jupyter.widget-view+json": {
       "model_id": "",
       "version_major": 2,
       "version_minor": 0
      },
      "text/plain": [
       "Modules completed:   0%|          | 0/1 [00:00<?, ?it/s]"
      ]
     },
     "metadata": {},
     "output_type": "display_data"
    },
    {
     "data": {
      "application/vnd.jupyter.widget-view+json": {
       "model_id": "",
       "version_major": 2,
       "version_minor": 0
      },
      "text/plain": [
       "Signals completed:   0%|          | 0/35 [00:00<?, ?it/s]"
      ]
     },
     "metadata": {},
     "output_type": "display_data"
    },
    {
     "name": "stdout",
     "output_type": "stream",
     "text": [
      "Opening file: /home/niels/research/vcd_files/sha3/round_24.vcd\n",
      "Opening file: /home/niels/research/vcd_files/sha3/round_25.vcd\n",
      "Opening file: /home/niels/research/vcd_files/sha3/round_24.vcd successful\n"
     ]
    },
    {
     "data": {
      "application/vnd.jupyter.widget-view+json": {
       "model_id": "",
       "version_major": 2,
       "version_minor": 0
      },
      "text/plain": [
       "Modules completed:   0%|          | 0/1 [00:00<?, ?it/s]"
      ]
     },
     "metadata": {},
     "output_type": "display_data"
    },
    {
     "data": {
      "application/vnd.jupyter.widget-view+json": {
       "model_id": "",
       "version_major": 2,
       "version_minor": 0
      },
      "text/plain": [
       "Signals completed:   0%|          | 0/35 [00:00<?, ?it/s]"
      ]
     },
     "metadata": {},
     "output_type": "display_data"
    },
    {
     "name": "stdout",
     "output_type": "stream",
     "text": [
      "Opening file: /home/niels/research/vcd_files/sha3/round_25.vcd successful\n"
     ]
    },
    {
     "data": {
      "application/vnd.jupyter.widget-view+json": {
       "model_id": "",
       "version_major": 2,
       "version_minor": 0
      },
      "text/plain": [
       "Modules completed:   0%|          | 0/1 [00:00<?, ?it/s]"
      ]
     },
     "metadata": {},
     "output_type": "display_data"
    },
    {
     "data": {
      "application/vnd.jupyter.widget-view+json": {
       "model_id": "",
       "version_major": 2,
       "version_minor": 0
      },
      "text/plain": [
       "Signals completed:   0%|          | 0/35 [00:00<?, ?it/s]"
      ]
     },
     "metadata": {},
     "output_type": "display_data"
    },
    {
     "name": "stdout",
     "output_type": "stream",
     "text": [
      "Opening file: /home/niels/research/vcd_files/sha3/round_26.vcd\n",
      "Opening file: /home/niels/research/vcd_files/sha3/round_27.vcd\n",
      "Opening file: /home/niels/research/vcd_files/sha3/round_26.vcd successful\n"
     ]
    },
    {
     "data": {
      "application/vnd.jupyter.widget-view+json": {
       "model_id": "",
       "version_major": 2,
       "version_minor": 0
      },
      "text/plain": [
       "Modules completed:   0%|          | 0/1 [00:00<?, ?it/s]"
      ]
     },
     "metadata": {},
     "output_type": "display_data"
    },
    {
     "data": {
      "application/vnd.jupyter.widget-view+json": {
       "model_id": "",
       "version_major": 2,
       "version_minor": 0
      },
      "text/plain": [
       "Signals completed:   0%|          | 0/35 [00:00<?, ?it/s]"
      ]
     },
     "metadata": {},
     "output_type": "display_data"
    },
    {
     "name": "stdout",
     "output_type": "stream",
     "text": [
      "Opening file: /home/niels/research/vcd_files/sha3/round_27.vcd successful\n"
     ]
    },
    {
     "data": {
      "application/vnd.jupyter.widget-view+json": {
       "model_id": "",
       "version_major": 2,
       "version_minor": 0
      },
      "text/plain": [
       "Modules completed:   0%|          | 0/1 [00:00<?, ?it/s]"
      ]
     },
     "metadata": {},
     "output_type": "display_data"
    },
    {
     "data": {
      "application/vnd.jupyter.widget-view+json": {
       "model_id": "",
       "version_major": 2,
       "version_minor": 0
      },
      "text/plain": [
       "Signals completed:   0%|          | 0/35 [00:00<?, ?it/s]"
      ]
     },
     "metadata": {},
     "output_type": "display_data"
    },
    {
     "name": "stdout",
     "output_type": "stream",
     "text": [
      "Opening file: /home/niels/research/vcd_files/sha3/round_28.vcd\n",
      "Opening file: /home/niels/research/vcd_files/sha3/round_29.vcd\n",
      "Opening file: /home/niels/research/vcd_files/sha3/round_28.vcd successful\n"
     ]
    },
    {
     "data": {
      "application/vnd.jupyter.widget-view+json": {
       "model_id": "",
       "version_major": 2,
       "version_minor": 0
      },
      "text/plain": [
       "Modules completed:   0%|          | 0/1 [00:00<?, ?it/s]"
      ]
     },
     "metadata": {},
     "output_type": "display_data"
    },
    {
     "data": {
      "application/vnd.jupyter.widget-view+json": {
       "model_id": "",
       "version_major": 2,
       "version_minor": 0
      },
      "text/plain": [
       "Signals completed:   0%|          | 0/35 [00:00<?, ?it/s]"
      ]
     },
     "metadata": {},
     "output_type": "display_data"
    },
    {
     "name": "stdout",
     "output_type": "stream",
     "text": [
      "Opening file: /home/niels/research/vcd_files/sha3/round_29.vcd successful\n"
     ]
    },
    {
     "data": {
      "application/vnd.jupyter.widget-view+json": {
       "model_id": "",
       "version_major": 2,
       "version_minor": 0
      },
      "text/plain": [
       "Modules completed:   0%|          | 0/1 [00:00<?, ?it/s]"
      ]
     },
     "metadata": {},
     "output_type": "display_data"
    },
    {
     "data": {
      "application/vnd.jupyter.widget-view+json": {
       "model_id": "",
       "version_major": 2,
       "version_minor": 0
      },
      "text/plain": [
       "Signals completed:   0%|          | 0/35 [00:00<?, ?it/s]"
      ]
     },
     "metadata": {},
     "output_type": "display_data"
    },
    {
     "name": "stdout",
     "output_type": "stream",
     "text": [
      "Opening file: /home/niels/research/vcd_files/sha3/round_30.vcd\n",
      "Opening file: /home/niels/research/vcd_files/sha3/round_31.vcd\n",
      "Opening file: /home/niels/research/vcd_files/sha3/round_30.vcd successful\n"
     ]
    },
    {
     "data": {
      "application/vnd.jupyter.widget-view+json": {
       "model_id": "",
       "version_major": 2,
       "version_minor": 0
      },
      "text/plain": [
       "Modules completed:   0%|          | 0/1 [00:00<?, ?it/s]"
      ]
     },
     "metadata": {},
     "output_type": "display_data"
    },
    {
     "data": {
      "application/vnd.jupyter.widget-view+json": {
       "model_id": "",
       "version_major": 2,
       "version_minor": 0
      },
      "text/plain": [
       "Signals completed:   0%|          | 0/35 [00:00<?, ?it/s]"
      ]
     },
     "metadata": {},
     "output_type": "display_data"
    },
    {
     "name": "stdout",
     "output_type": "stream",
     "text": [
      "Opening file: /home/niels/research/vcd_files/sha3/round_31.vcd successful\n"
     ]
    },
    {
     "data": {
      "application/vnd.jupyter.widget-view+json": {
       "model_id": "",
       "version_major": 2,
       "version_minor": 0
      },
      "text/plain": [
       "Modules completed:   0%|          | 0/1 [00:00<?, ?it/s]"
      ]
     },
     "metadata": {},
     "output_type": "display_data"
    },
    {
     "data": {
      "application/vnd.jupyter.widget-view+json": {
       "model_id": "",
       "version_major": 2,
       "version_minor": 0
      },
      "text/plain": [
       "Signals completed:   0%|          | 0/35 [00:00<?, ?it/s]"
      ]
     },
     "metadata": {},
     "output_type": "display_data"
    },
    {
     "name": "stdout",
     "output_type": "stream",
     "text": [
      "Processes finished.\n",
      "Changed config file!\n"
     ]
    }
   ],
   "source": [
    "import json\n",
    "import os\n",
    "import gc\n",
    "import itertools\n",
    "import multiprocessing\n",
    "import datetime\n",
    "import configparser\n",
    "\n",
    "from utilities import get_modules_names_list, signal_access, get_value_signal_dict, get_signal_dict, concat, chunkIt, conv_int\n",
    "from hamming_weight import hamming_weight, hamming_distance\n",
    "from file_handler import open_VCD, write_file, open_json, store_config\n",
    "\n",
    "#pip install vcdvcd numpy scipy tqdm matplotlib\n",
    "from vcdvcd import VCDVCD \n",
    "import numpy \n",
    "import scipy \n",
    "from scipy.special import comb\n",
    "from scipy.stats.stats import pearsonr\n",
    "\n",
    "# Loading configuration file.\n",
    "config_file = \"config.ini\"\n",
    "config = configparser.ConfigParser()\n",
    "config.read(config_file)\n",
    "\n",
    "date_now = datetime.datetime.now().strftime(\"%Y_%m_%d__%H_%M_%S\")\n",
    "\n",
    "if config[\"DEFAULT\"].getboolean(\"NOTEBOOK\"):\n",
    "    from tqdm.notebook import trange, tqdm # if running in a notebook\n",
    "else:\n",
    "    from tqdm import trange, tqdm # if not running in a notebook\n",
    "\n",
    "# Timestamp steps in vcd file.\n",
    "TIMESTAMP_STEPS = int(config[\"DEFAULT\"][\"TIMESTAMP_STEPS\"])\n",
    "\n",
    "# START / END value that indicates where to start / end in the vcd file.\n",
    "# If vcd file is large, you can select an interesting interval.\n",
    "TIMESTAMP_START = int(config[\"DEFAULT\"][\"TIMESTAMP_START\"])\n",
    "TIMESTAMP_END = int(config[\"DEFAULT\"][\"TIMESTAMP_END\"])\n",
    "\n",
    "# Number of cores used.\n",
    "NR_OF_CORES = int(config[\"DEFAULT\"][\"NR_OF_CORES\"])\n",
    "\n",
    "# Number of vcd files.\n",
    "NR_OF_VCD_FILES = int(config[\"DEFAULT\"][\"NR_OF_VCD_FILES\"])\n",
    "\n",
    "# Directory where files are stored.\n",
    "SIDECHANNEL_TRACES_PATH = config[\"DEFAULT\"][\"SIDECHANNEL_TRACES_PATH_FORMAT\"].format(date_now)\n",
    "\n",
    "# Boolean whether we use all modules in vcd file.\n",
    "ALL_MODULES = config[\"DEFAULT\"].getboolean(\"ALL_MODULES\")\n",
    "\n",
    "# Save traces path in configuration file. \n",
    "config.set(\"DEFAULT\", \"SIDECHANNEL_TRACES_PATH\", SIDECHANNEL_TRACES_PATH)\n",
    "\n",
    "# Basepath of where vcd files are stored.\n",
    "# VCD_FILE_BASEPATH\n",
    "#   |-- aes\n",
    "#        |-----tvla_fixed\n",
    "#                   |--------round_0.vcd\n",
    "#         | round_0.vcd\n",
    "#         | round_1.vcd\n",
    "#         | ...\n",
    "#         | aes_sbox1_oracle.txt\n",
    "#          | ...\n",
    "#   |-------- des\n",
    "#\n",
    "#\n",
    "#\n",
    "#   |-------- des2\n",
    "#\n",
    "#\n",
    "#   |-------- sha3\n",
    "VCD_FILE_BASEPATH = config[\"DEFAULT\"][\"VCD_FILE_BASEPATH\"]\n",
    "\n",
    "# Format of vcd files.\n",
    "VCD_FILE_FORMAT = config[\"DEFAULT\"][\"VCD_FILE_FORMAT\"]\n",
    "\n",
    "# Method used: svf/tvla\n",
    "METHOD = config[\"DEFAULT\"][\"METHOD\"]\n",
    "\n",
    "# Algorithm used: aes/dex\n",
    "ALGORITHM = config[\"DEFAULT\"][\"ALGORITHM\"]\n",
    "\n",
    "# Path where vcd file are stored, uses the basepath and algorithm.\n",
    "VCD_FILE_PATH = os.path.join(VCD_FILE_BASEPATH, ALGORITHM) \n",
    "if METHOD == \"tvla\" and config[\"DEFAULT\"].getboolean(\"TVLA_FIXED\"):\n",
    "        VCD_FILE_PATH = os.path.join(VCD_FILE_PATH, \"tvla_fixed\")\n",
    "        NR_OF_VCD_FILES = 1\n",
    "        \n",
    "# Computes side-channel trace of 1 module \n",
    "# \"vcd\" : vcdvcd object.\n",
    "# \"module\" : String of module name.\n",
    "def compute_sidechannel_trace(vcd, module):  \n",
    "    module_dict = {}\n",
    "\n",
    "    # Get signals of this module.\n",
    "    signals = signal_access(vcd, module)\n",
    "    endtime = vcd.endtime\n",
    "    value = None\n",
    "\n",
    "    # Iterate through every signal in this module.\n",
    "    for signal in tqdm(signals, desc=\"Signals completed\", leave=False):\n",
    "        # sig_tv contains a time-value tuple when signal changes value. \n",
    "        sig_tv = signal.tv\n",
    "        signal_dict = get_signal_dict(sig_tv)\n",
    "        # Start value is None, we do not know the signal value.\n",
    "        current_sig_value = None\n",
    "\n",
    "        # Iterate through every timestamp.\n",
    "        for timestamp in itertools.chain(range(TIMESTAMP_START, TIMESTAMP_END, TIMESTAMP_STEPS)):\n",
    "            # String with signal value concatenated, per timestamp.\n",
    "            timestamp_concat = None\n",
    "            try:\n",
    "                timestamp_concat = module_dict[timestamp]\n",
    "            except KeyError:\n",
    "                pass\n",
    "            new_sig_value = get_value_signal_dict(signal_dict, timestamp)\n",
    "            # Check if new_sig_value exists. if it exists, the value has changed.\n",
    "            if new_sig_value is not None:\n",
    "                # Signal changed, so change the current_sig_value.\n",
    "                current_sig_value = new_sig_value\n",
    "\n",
    "            # Concat this signal value to the total signals for this timestamp\n",
    "            timestamp_concat = concat(timestamp_concat, current_sig_value)\n",
    "\n",
    "            module_dict[timestamp] = timestamp_concat  \n",
    "            \n",
    "    # If method is tvla. We compute and store the hamming weight instead of the concatenated signal.\n",
    "    if METHOD == \"tvla\":\n",
    "        for timestamp in itertools.chain(range(TIMESTAMP_START, TIMESTAMP_END, TIMESTAMP_STEPS)):\n",
    "            value = None\n",
    "            try:\n",
    "                value = module_dict[timestamp]\n",
    "            except KeyError:\n",
    "                pass\n",
    "            if value is not None:\n",
    "                module_dict[timestamp] = hamming_weight(conv_int(value))\n",
    "            else:\n",
    "                module_dict[timestamp] = 0\n",
    "    return module_dict\n",
    "\n",
    "# Starts 1 core process\n",
    "# \"file_path_queue\" : Queue with file_paths.\n",
    "# \"modules\" : List of string of module names.\n",
    "def start_compute_sidechannel_traces(file_path_queue, modules):\n",
    "    while not file_path_queue.empty():\n",
    "        file_path = file_path_queue.get()\n",
    "        vcd_file_name, vcd_file_extension = os.path.splitext(os.path.split(file_path)[1])\n",
    "        vcd = open_VCD(file_path)\n",
    "        if vcd is None:\n",
    "            return\n",
    "        for module in tqdm(modules, desc=\"Modules completed\", leave=False):\n",
    "            trace = compute_sidechannel_trace(vcd, module) # Computes the side-channel trace for this vcd file and module. \n",
    "            path = os.path.join(SIDECHANNEL_TRACES_PATH, module)\n",
    "            write_file(path, vcd_file_name + \".json\", trace) # Stores trace in a json file.\n",
    "            \n",
    "        # Manually delete vcd object to free memory.\n",
    "        del vcd\n",
    "        gc.collect()\n",
    "\n",
    "# Computes side-channel traces.\n",
    "# 'modules' : List of string of module names.\n",
    "def compute_sidechannel_traces(modules):   \n",
    "    file_path_queue = multiprocessing.Queue()\n",
    "    for i in range(NR_OF_VCD_FILES):\n",
    "        file_path = os.path.join(VCD_FILE_PATH, VCD_FILE_FORMAT.format(i)) \n",
    "        file_path_queue.put(file_path)\n",
    "    \n",
    "    processes = [multiprocessing.Process(target=start_compute_sidechannel_traces, args=(file_path_queue, modules,)) for x in range(NR_OF_CORES)]\n",
    "    \n",
    "    print(\"Starting processes.\")\n",
    "    for p in processes:\n",
    "        p.start()\n",
    "    \n",
    "    # Waiting for processes.\n",
    "    for p in processes:\n",
    "        p.join()\n",
    "    print(\"Processes finished.\")\n",
    "\n",
    "# Open a vcd file and get all module names.\n",
    "# returns a list of module name strings.\n",
    "def get_all_modules():\n",
    "    vcd = open_VCD(os.path.join(VCD_FILE_PATH, VCD_FILE_FORMAT.format(0)))\n",
    "    return get_modules_names_list(vcd)\n",
    "\n",
    "# Returns a list of interesting modules for our research.\n",
    "def get_research_modules():\n",
    "    return [\n",
    "        \"TOP.mkTbSoc.soc_soc.ccore.dmem.dcache\", # Data Cache\n",
    "        \"TOP.mkTbSoc.soc_soc.ccore.riscv.stage2.registerfile\", # Register File\n",
    "        \"TOP.mkTbSoc.soc_soc.ccore.riscv.stage5.csr\", # CSR\n",
    "        \"TOP.mkTbSoc.soc_soc.ccore.riscv.stage3.multicycle_alu\", # ALU\n",
    "        \"TOP.mkTbSoc.soc_soc.ccore.riscv.stage3.multicycle_alu.fpu\", #FPU\n",
    "        \"TOP.mkTbSoc.soc_soc.ccore.riscv.stage3.multicycle_alu.mbox\", #Mul-Div Unit\n",
    "        \"TOP.mkTbSoc.soc_soc.ccore.riscv.stage0.bpu\", # BPU\n",
    "        \"TOP.mkTbSoc.soc_soc.ccore.imem.icache\", # Instruction cache\n",
    "        \"TOP.mkTbSoc.soc_soc.ccore.imem.itlb\", # Instruction TLB\n",
    "        \"TOP.mkTbSoc.soc_soc.ccore.dmem.dtlb\", # Data TLB   \n",
    "    ]\n",
    "\n",
    "modules = []\n",
    "if ALL_MODULES:\n",
    "    modules = get_all_modules()\n",
    "else:\n",
    "    modules = get_research_modules()\n",
    "modules = [\"TOP.mkTbSoc.soc_soc.ccore.riscv.stage3.multicycle_alu\"]\n",
    "\n",
    "for module in modules:\n",
    "    path = os.path.join(SIDECHANNEL_TRACES_PATH, module)\n",
    "    os.makedirs(path)\n",
    "    \n",
    "print(\"[INFO] VCD files: {}\".format(NR_OF_VCD_FILES))\n",
    "print(\"[INFO] VCD timestamps: from {} to {}\".format(TIMESTAMP_START, TIMESTAMP_END))\n",
    "print(\"[INFO] Number of cores: {}\".format(NR_OF_CORES))\n",
    "print(\"[INFO] Storing traces in directory: {}\".format(SIDECHANNEL_TRACES_PATH))\n",
    "print(\"[INFO] Accessing vcd files in directory: {}\".format(VCD_FILE_PATH))\n",
    "print(\"[INFO] Modules: {}\".format(len(modules)))\n",
    "\n",
    "# Compute side-channel traces.\n",
    "compute_sidechannel_traces(modules)\n",
    "store_config(config, config_file)"
   ]
  },
  {
   "cell_type": "code",
   "execution_count": null,
   "id": "0090fa35-f4fc-4d00-beb4-5a6d9c920ca5",
   "metadata": {},
   "outputs": [],
   "source": []
  }
 ],
 "metadata": {
  "kernelspec": {
   "display_name": "Python 3",
   "language": "python",
   "name": "python3"
  },
  "language_info": {
   "codemirror_mode": {
    "name": "ipython",
    "version": 3
   },
   "file_extension": ".py",
   "mimetype": "text/x-python",
   "name": "python",
   "nbconvert_exporter": "python",
   "pygments_lexer": "ipython3",
   "version": "3.7.0"
  }
 },
 "nbformat": 4,
 "nbformat_minor": 5
}
