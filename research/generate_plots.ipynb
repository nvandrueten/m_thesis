{
 "cells": [
  {
   "cell_type": "code",
   "execution_count": 1,
   "id": "105b9d91-4d23-47fc-958b-9682c031b1b4",
   "metadata": {},
   "outputs": [],
   "source": [
    "import os \n",
    "from file_handler import open_json, write_file\n",
    "import matplotlib.pyplot as plt\n",
    "import matplotlib.markers as markers\n",
    "from matplotlib.backends.backend_pdf import PdfPages\n",
    "import matplotlib.patches as mpatches\n",
    "import matplotlib.lines as mlines\n",
    "base_path = \"/home/niels/gitrepos/param/results\"\n",
    "\n",
    "original_path = os.path.join(base_path, \"original_results\")\n",
    "results_path = os.path.join(base_path, \"results\")\n",
    "plots_path = os.path.join(base_path, \"plots\")\n",
    "\n",
    "modules = [\n",
    "    \"TOP.mkTbSoc.soc_soc.ccore.dmem.dcache\", # Data Cache\n",
    "    \"TOP.mkTbSoc.soc_soc.ccore.riscv.stage2.registerfile\", # Register File\n",
    "    \"TOP.mkTbSoc.soc_soc.ccore.riscv.stage5.csr\", # CSR\n",
    "    \"TOP.mkTbSoc.soc_soc.ccore.riscv.stage3.multicycle_alu\", # ALU\n",
    "    \"TOP.mkTbSoc.soc_soc.ccore.riscv.stage3.multicycle_alu.fpu\", #FPU\n",
    "    \"TOP.mkTbSoc.soc_soc.ccore.riscv.stage3.multicycle_alu.mbox\", #Mul-Div Unit\n",
    "    \"TOP.mkTbSoc.soc_soc.ccore.riscv.stage0.bpu\", # BPU\n",
    "    \"TOP.mkTbSoc.soc_soc.ccore.imem.icache\", # Instruction cache\n",
    "    \"TOP.mkTbSoc.soc_soc.ccore.imem.itlb\", # Instruction TLB\n",
    "    \"TOP.mkTbSoc.soc_soc.ccore.dmem.dtlb\", # Data TLB   \n",
    "]\n",
    "\n",
    "file_type = \"png\"\n",
    "my_dpi = 10\n",
    "dpa_b = False\n",
    "\n",
    "algorithms = [\"aes\", \"des\", \"des2\", \"sha3\"]\n",
    "\n",
    "# aes  max timestamps: 152700      skip timestamps: 0 - 100000  => cycle: 0 - 20000\n",
    "# des  max timestamps: 343810      skip timestamps: 0 - 150000  => cycle: 0 - 30000\n",
    "# des2 max timestamps: 561390      skip timestamps: 0 - 450000  => cycle: 0 - 90000\n",
    "# sha3 max timestamps: 252950      skip timestamps: 0 - 0  => cycle: 0 - 0\n",
    "aes_cycles_skipped = 20000\n",
    "des_cycles_skipped = 30000\n",
    "des2_cycles_skipped = 90000\n",
    "sha3_cycles_skipped = 0\n",
    "\n",
    "N = 128\n",
    "\n",
    "marker_colours = ['#1f77b4', '#ff7f0e', '#2ca02c', '#d62728', '#9467bd', '#8c564b', '#e377c2', '#7f7f7f', '#bcbd22', '#17becf']\n",
    "marker_types = ['o', 'v', 's', 'P', 'X', 'D', 's', '', '*', 'h']\n",
    "\n",
    "\n",
    "def make_dir(path):\n",
    "    try:\n",
    "        os.makedirs(path)\n",
    "    except FileExistsError:\n",
    "        print(\"Directory already exist.\")\n",
    "        \n",
    "def get_oracles(algorithm):\n",
    "    if algorithm == algorithms[0]:\n",
    "        return [\"sboxbyte1\", \"sboxbyte5\", \"fullro\", \"ro\", \"xor\"]\n",
    "    elif algorithm == algorithms[1]:\n",
    "        return [\"column\", \"or\", \"row\", \"sbox\"]#, \"shift\"]\n",
    "    elif algorithm == algorithms[2]:\n",
    "        return [\"column\", \"or\", \"row\", \"sbox\", \"and\"]\n",
    "    elif algorithm == algorithms[3]:\n",
    "        return [\"bc\", \"not\", \"xor\"]\n",
    "\n",
    "def get_cycles_skipped(algorithm):\n",
    "    if algorithm == algorithms[0]:\n",
    "        return aes_cycles_skipped\n",
    "    elif algorithm == algorithms[1]:\n",
    "        return des_cycles_skipped\n",
    "    elif algorithm == algorithms[2]:\n",
    "        return des2_cycles_skipped\n",
    "    elif algorithm == algorithms[3]:\n",
    "        return sha3_cycles_skipped\n",
    "\n",
    "def get_xmin(algorithm):\n",
    "    if algorithm == algorithms[0]:\n",
    "        return get_cycles_skipped(algorithm) + 2300\n",
    "    elif algorithm == algorithms[1]:\n",
    "        return get_cycles_skipped(algorithm) + 3000\n",
    "    elif algorithm == algorithms[2]:\n",
    "        return get_cycles_skipped(algorithm) + 9000\n",
    "    elif algorithm == algorithms[3]:\n",
    "        return get_cycles_skipped(algorithm) + 6000\n",
    "    \n",
    "    \n",
    "def get_xmax(algorithm):\n",
    "    if algorithm == algorithms[0]:\n",
    "        return 30500\n",
    "    elif algorithm == algorithms[1]:\n",
    "        return 70000\n",
    "    elif algorithm == algorithms[2]:\n",
    "        return 113000\n",
    "    elif algorithm == algorithms[3]:\n",
    "        return 51000\n",
    "    \n",
    "def get_unedited_json_results(algorithm, method, module, oracle):\n",
    "    path = os.path.join(original_path, algorithm, method, \"json\", module)\n",
    "    filename = \"\"\n",
    "    if method == \"svf\":\n",
    "        filename = method + \"_\" + algorithm + \"_\" + oracle + \"_oracle_\" + str(N) + \".json\"\n",
    "    elif method == \"tvla\":\n",
    "        filename = method + \"_\" + algorithm + \"_\" + str(N) + \".json\"\n",
    "    return open_json(path, filename)\n",
    "\n",
    "def get_json_results(algorithm, method, module, oracle):\n",
    "    path = os.path.join(results_path, algorithm, method, \"json\", module)\n",
    "    if method == \"svf\":\n",
    "        filename = method + \"_\" + algorithm + \"_\" + oracle + \"_oracle_\" + str(N) + \".json\"\n",
    "    elif method == \"tvla\":\n",
    "        filename = method + \"_\" + algorithm + \"_\" + str(N) + \".json\"\n",
    "    return open_json(path, filename)\n",
    "\n",
    "def write_json_results(algorithm, method, module, oracle, data):\n",
    "    path = os.path.join(results_path, algorithm, method, \"json\", module)\n",
    "    filename = \"\"\n",
    "    if method == \"svf\":\n",
    "        filename = method + \"_\" + algorithm + \"_\" + oracle + \"_oracle_\" + str(N) + \".json\"\n",
    "    elif method == \"tvla\":\n",
    "        filename = method + \"_\" + algorithm + \"_\" + str(N) + \".json\"\n",
    "    write_file(path, filename, data)"
   ]
  },
  {
   "cell_type": "code",
   "execution_count": 2,
   "id": "b6a511fa-4511-4a23-9970-555ade7fb706",
   "metadata": {
    "tags": []
   },
   "outputs": [],
   "source": [
    "# We have skipped uninteresting cycles during svf analysis,\n",
    "# Increase key values by 'cycles_skipped' so the plots are alligned (svf vs. tvla).\n",
    "# Opens json file and adds skip_value to every cycle.\n",
    "# Returns json file.\n",
    "def change(json_file, skip_value):\n",
    "    old_values = json_file['values']\n",
    "    dict_ = {}\n",
    "    for k in old_values:\n",
    "        new_k = int(k) + skip_value\n",
    "        k_value = old_values[k]\n",
    "        dict_[new_k] = k_value\n",
    "    json_file['values'] = dict_\n",
    "    return json_file\n",
    "\n",
    "def changes(method):\n",
    "    print(\"read json from:\", original_path)\n",
    "    print(\"store json to:\", results_path)\n",
    "    for algorithm in algorithms:\n",
    "        oracles = get_oracles(algorithm)\n",
    "        for module in modules:\n",
    "            if method == \"svf\":\n",
    "                for oracle in oracles:\n",
    "                    path = os.path.join(original_path, algorithm, method, \"json\", module)\n",
    "                    new_path = os.path.join(results_path, algorithm, method, \"json\", module)\n",
    "                    old_json = get_unedited_json_results(algorithm = algorithm, method = method, module = module, oracle = oracle)\n",
    "                    new_json = change(old_json, get_cycles_skipped(algorithm))\n",
    "                    write_json_results(algorithm = algorithm, method = method, module = module, oracle = oracle, data = new_json)\n",
    "            elif method == \"tvla\":\n",
    "                path = os.path.join(original_path, algorithm, method, \"json\", module)\n",
    "                new_path = os.path.join(results_path, algorithm, method, \"json\", module)\n",
    "                old_json = get_unedited_json_results(algorithm = algorithm, method = method, module = module, oracle = \"\")\n",
    "                new_json = old_json\n",
    "                write_json_results(algorithm = algorithm, method = method, module = module, oracle = \"\", data = new_json)\n",
    "    print(\"finished\")"
   ]
  },
  {
   "cell_type": "code",
   "execution_count": 3,
   "id": "d48ccb9e-994a-4238-b8ca-d842e6e4e133",
   "metadata": {
    "tags": []
   },
   "outputs": [
    {
     "name": "stdout",
     "output_type": "stream",
     "text": [
      "read json from: /home/niels/gitrepos/param/results/original_results\n",
      "store json to: /home/niels/gitrepos/param/results/results\n",
      "Making directory: /home/niels/gitrepos/param/results/results/aes/svf/json/TOP.mkTbSoc.soc_soc.ccore.dmem.dcache \n",
      "Making directory: /home/niels/gitrepos/param/results/results/aes/svf/json/TOP.mkTbSoc.soc_soc.ccore.riscv.stage2.registerfile \n",
      "Making directory: /home/niels/gitrepos/param/results/results/aes/svf/json/TOP.mkTbSoc.soc_soc.ccore.riscv.stage5.csr \n",
      "Making directory: /home/niels/gitrepos/param/results/results/aes/svf/json/TOP.mkTbSoc.soc_soc.ccore.riscv.stage3.multicycle_alu \n",
      "Making directory: /home/niels/gitrepos/param/results/results/aes/svf/json/TOP.mkTbSoc.soc_soc.ccore.riscv.stage3.multicycle_alu.fpu \n",
      "Making directory: /home/niels/gitrepos/param/results/results/aes/svf/json/TOP.mkTbSoc.soc_soc.ccore.riscv.stage3.multicycle_alu.mbox \n",
      "Making directory: /home/niels/gitrepos/param/results/results/aes/svf/json/TOP.mkTbSoc.soc_soc.ccore.riscv.stage0.bpu \n",
      "Making directory: /home/niels/gitrepos/param/results/results/aes/svf/json/TOP.mkTbSoc.soc_soc.ccore.imem.icache \n",
      "Making directory: /home/niels/gitrepos/param/results/results/aes/svf/json/TOP.mkTbSoc.soc_soc.ccore.imem.itlb \n",
      "Making directory: /home/niels/gitrepos/param/results/results/aes/svf/json/TOP.mkTbSoc.soc_soc.ccore.dmem.dtlb \n",
      "Making directory: /home/niels/gitrepos/param/results/results/des/svf/json/TOP.mkTbSoc.soc_soc.ccore.dmem.dcache \n",
      "Making directory: /home/niels/gitrepos/param/results/results/des/svf/json/TOP.mkTbSoc.soc_soc.ccore.riscv.stage2.registerfile \n",
      "Making directory: /home/niels/gitrepos/param/results/results/des/svf/json/TOP.mkTbSoc.soc_soc.ccore.riscv.stage5.csr \n",
      "Making directory: /home/niels/gitrepos/param/results/results/des/svf/json/TOP.mkTbSoc.soc_soc.ccore.riscv.stage3.multicycle_alu \n",
      "Making directory: /home/niels/gitrepos/param/results/results/des/svf/json/TOP.mkTbSoc.soc_soc.ccore.riscv.stage3.multicycle_alu.fpu \n",
      "Making directory: /home/niels/gitrepos/param/results/results/des/svf/json/TOP.mkTbSoc.soc_soc.ccore.riscv.stage3.multicycle_alu.mbox \n",
      "Making directory: /home/niels/gitrepos/param/results/results/des/svf/json/TOP.mkTbSoc.soc_soc.ccore.riscv.stage0.bpu \n",
      "Making directory: /home/niels/gitrepos/param/results/results/des/svf/json/TOP.mkTbSoc.soc_soc.ccore.imem.icache \n",
      "Making directory: /home/niels/gitrepos/param/results/results/des/svf/json/TOP.mkTbSoc.soc_soc.ccore.imem.itlb \n",
      "Making directory: /home/niels/gitrepos/param/results/results/des/svf/json/TOP.mkTbSoc.soc_soc.ccore.dmem.dtlb \n",
      "Making directory: /home/niels/gitrepos/param/results/results/des2/svf/json/TOP.mkTbSoc.soc_soc.ccore.dmem.dcache \n",
      "Making directory: /home/niels/gitrepos/param/results/results/des2/svf/json/TOP.mkTbSoc.soc_soc.ccore.riscv.stage2.registerfile \n",
      "Making directory: /home/niels/gitrepos/param/results/results/des2/svf/json/TOP.mkTbSoc.soc_soc.ccore.riscv.stage5.csr \n",
      "Making directory: /home/niels/gitrepos/param/results/results/des2/svf/json/TOP.mkTbSoc.soc_soc.ccore.riscv.stage3.multicycle_alu \n",
      "Making directory: /home/niels/gitrepos/param/results/results/des2/svf/json/TOP.mkTbSoc.soc_soc.ccore.riscv.stage3.multicycle_alu.fpu \n",
      "Making directory: /home/niels/gitrepos/param/results/results/des2/svf/json/TOP.mkTbSoc.soc_soc.ccore.riscv.stage3.multicycle_alu.mbox \n",
      "Making directory: /home/niels/gitrepos/param/results/results/des2/svf/json/TOP.mkTbSoc.soc_soc.ccore.riscv.stage0.bpu \n",
      "Making directory: /home/niels/gitrepos/param/results/results/des2/svf/json/TOP.mkTbSoc.soc_soc.ccore.imem.icache \n",
      "Making directory: /home/niels/gitrepos/param/results/results/des2/svf/json/TOP.mkTbSoc.soc_soc.ccore.imem.itlb \n",
      "Making directory: /home/niels/gitrepos/param/results/results/des2/svf/json/TOP.mkTbSoc.soc_soc.ccore.dmem.dtlb \n",
      "Making directory: /home/niels/gitrepos/param/results/results/sha3/svf/json/TOP.mkTbSoc.soc_soc.ccore.dmem.dcache \n",
      "Making directory: /home/niels/gitrepos/param/results/results/sha3/svf/json/TOP.mkTbSoc.soc_soc.ccore.riscv.stage2.registerfile \n",
      "Making directory: /home/niels/gitrepos/param/results/results/sha3/svf/json/TOP.mkTbSoc.soc_soc.ccore.riscv.stage5.csr \n",
      "Making directory: /home/niels/gitrepos/param/results/results/sha3/svf/json/TOP.mkTbSoc.soc_soc.ccore.riscv.stage3.multicycle_alu \n",
      "Making directory: /home/niels/gitrepos/param/results/results/sha3/svf/json/TOP.mkTbSoc.soc_soc.ccore.riscv.stage3.multicycle_alu.fpu \n",
      "Making directory: /home/niels/gitrepos/param/results/results/sha3/svf/json/TOP.mkTbSoc.soc_soc.ccore.riscv.stage3.multicycle_alu.mbox \n",
      "Making directory: /home/niels/gitrepos/param/results/results/sha3/svf/json/TOP.mkTbSoc.soc_soc.ccore.riscv.stage0.bpu \n",
      "Making directory: /home/niels/gitrepos/param/results/results/sha3/svf/json/TOP.mkTbSoc.soc_soc.ccore.imem.icache \n",
      "Making directory: /home/niels/gitrepos/param/results/results/sha3/svf/json/TOP.mkTbSoc.soc_soc.ccore.imem.itlb \n",
      "Making directory: /home/niels/gitrepos/param/results/results/sha3/svf/json/TOP.mkTbSoc.soc_soc.ccore.dmem.dtlb \n",
      "finished\n",
      "read json from: /home/niels/gitrepos/param/results/original_results\n",
      "store json to: /home/niels/gitrepos/param/results/results\n",
      "Making directory: /home/niels/gitrepos/param/results/results/aes/tvla/json/TOP.mkTbSoc.soc_soc.ccore.dmem.dcache \n",
      "Making directory: /home/niels/gitrepos/param/results/results/aes/tvla/json/TOP.mkTbSoc.soc_soc.ccore.riscv.stage2.registerfile \n",
      "Making directory: /home/niels/gitrepos/param/results/results/aes/tvla/json/TOP.mkTbSoc.soc_soc.ccore.riscv.stage5.csr \n",
      "Making directory: /home/niels/gitrepos/param/results/results/aes/tvla/json/TOP.mkTbSoc.soc_soc.ccore.riscv.stage3.multicycle_alu \n",
      "Making directory: /home/niels/gitrepos/param/results/results/aes/tvla/json/TOP.mkTbSoc.soc_soc.ccore.riscv.stage3.multicycle_alu.fpu \n",
      "Making directory: /home/niels/gitrepos/param/results/results/aes/tvla/json/TOP.mkTbSoc.soc_soc.ccore.riscv.stage3.multicycle_alu.mbox \n",
      "Making directory: /home/niels/gitrepos/param/results/results/aes/tvla/json/TOP.mkTbSoc.soc_soc.ccore.riscv.stage0.bpu \n",
      "Making directory: /home/niels/gitrepos/param/results/results/aes/tvla/json/TOP.mkTbSoc.soc_soc.ccore.imem.icache \n",
      "Making directory: /home/niels/gitrepos/param/results/results/aes/tvla/json/TOP.mkTbSoc.soc_soc.ccore.imem.itlb \n",
      "Making directory: /home/niels/gitrepos/param/results/results/aes/tvla/json/TOP.mkTbSoc.soc_soc.ccore.dmem.dtlb \n",
      "Making directory: /home/niels/gitrepos/param/results/results/des/tvla/json/TOP.mkTbSoc.soc_soc.ccore.dmem.dcache \n",
      "Making directory: /home/niels/gitrepos/param/results/results/des/tvla/json/TOP.mkTbSoc.soc_soc.ccore.riscv.stage2.registerfile \n",
      "Making directory: /home/niels/gitrepos/param/results/results/des/tvla/json/TOP.mkTbSoc.soc_soc.ccore.riscv.stage5.csr \n",
      "Making directory: /home/niels/gitrepos/param/results/results/des/tvla/json/TOP.mkTbSoc.soc_soc.ccore.riscv.stage3.multicycle_alu \n",
      "Making directory: /home/niels/gitrepos/param/results/results/des/tvla/json/TOP.mkTbSoc.soc_soc.ccore.riscv.stage3.multicycle_alu.fpu \n",
      "Making directory: /home/niels/gitrepos/param/results/results/des/tvla/json/TOP.mkTbSoc.soc_soc.ccore.riscv.stage3.multicycle_alu.mbox \n",
      "Making directory: /home/niels/gitrepos/param/results/results/des/tvla/json/TOP.mkTbSoc.soc_soc.ccore.riscv.stage0.bpu \n",
      "Making directory: /home/niels/gitrepos/param/results/results/des/tvla/json/TOP.mkTbSoc.soc_soc.ccore.imem.icache \n",
      "Making directory: /home/niels/gitrepos/param/results/results/des/tvla/json/TOP.mkTbSoc.soc_soc.ccore.imem.itlb \n",
      "Making directory: /home/niels/gitrepos/param/results/results/des/tvla/json/TOP.mkTbSoc.soc_soc.ccore.dmem.dtlb \n",
      "Making directory: /home/niels/gitrepos/param/results/results/des2/tvla/json/TOP.mkTbSoc.soc_soc.ccore.dmem.dcache \n",
      "Making directory: /home/niels/gitrepos/param/results/results/des2/tvla/json/TOP.mkTbSoc.soc_soc.ccore.riscv.stage2.registerfile \n",
      "Making directory: /home/niels/gitrepos/param/results/results/des2/tvla/json/TOP.mkTbSoc.soc_soc.ccore.riscv.stage5.csr \n",
      "Making directory: /home/niels/gitrepos/param/results/results/des2/tvla/json/TOP.mkTbSoc.soc_soc.ccore.riscv.stage3.multicycle_alu \n",
      "Making directory: /home/niels/gitrepos/param/results/results/des2/tvla/json/TOP.mkTbSoc.soc_soc.ccore.riscv.stage3.multicycle_alu.fpu \n",
      "Making directory: /home/niels/gitrepos/param/results/results/des2/tvla/json/TOP.mkTbSoc.soc_soc.ccore.riscv.stage3.multicycle_alu.mbox \n",
      "Making directory: /home/niels/gitrepos/param/results/results/des2/tvla/json/TOP.mkTbSoc.soc_soc.ccore.riscv.stage0.bpu \n",
      "Making directory: /home/niels/gitrepos/param/results/results/des2/tvla/json/TOP.mkTbSoc.soc_soc.ccore.imem.icache \n",
      "Making directory: /home/niels/gitrepos/param/results/results/des2/tvla/json/TOP.mkTbSoc.soc_soc.ccore.imem.itlb \n",
      "Making directory: /home/niels/gitrepos/param/results/results/des2/tvla/json/TOP.mkTbSoc.soc_soc.ccore.dmem.dtlb \n",
      "Making directory: /home/niels/gitrepos/param/results/results/sha3/tvla/json/TOP.mkTbSoc.soc_soc.ccore.dmem.dcache \n",
      "Making directory: /home/niels/gitrepos/param/results/results/sha3/tvla/json/TOP.mkTbSoc.soc_soc.ccore.riscv.stage2.registerfile \n",
      "Making directory: /home/niels/gitrepos/param/results/results/sha3/tvla/json/TOP.mkTbSoc.soc_soc.ccore.riscv.stage5.csr \n",
      "Making directory: /home/niels/gitrepos/param/results/results/sha3/tvla/json/TOP.mkTbSoc.soc_soc.ccore.riscv.stage3.multicycle_alu \n",
      "Making directory: /home/niels/gitrepos/param/results/results/sha3/tvla/json/TOP.mkTbSoc.soc_soc.ccore.riscv.stage3.multicycle_alu.fpu \n",
      "Making directory: /home/niels/gitrepos/param/results/results/sha3/tvla/json/TOP.mkTbSoc.soc_soc.ccore.riscv.stage3.multicycle_alu.mbox \n",
      "Making directory: /home/niels/gitrepos/param/results/results/sha3/tvla/json/TOP.mkTbSoc.soc_soc.ccore.riscv.stage0.bpu \n",
      "Making directory: /home/niels/gitrepos/param/results/results/sha3/tvla/json/TOP.mkTbSoc.soc_soc.ccore.imem.icache \n",
      "Making directory: /home/niels/gitrepos/param/results/results/sha3/tvla/json/TOP.mkTbSoc.soc_soc.ccore.imem.itlb \n",
      "Making directory: /home/niels/gitrepos/param/results/results/sha3/tvla/json/TOP.mkTbSoc.soc_soc.ccore.dmem.dtlb \n",
      "finished\n"
     ]
    }
   ],
   "source": [
    "make_dir(results_path)\n",
    "changes(\"svf\")\n",
    "changes(\"tvla\")"
   ]
  },
  {
   "cell_type": "code",
   "execution_count": 4,
   "id": "30b967a4-f72a-4bee-99fe-e333634cb9e4",
   "metadata": {},
   "outputs": [
    {
     "name": "stdout",
     "output_type": "stream",
     "text": [
      "['sbox']\n",
      "\\textbf{DCACHE}\t & 0.04 & 0 \\\\\n",
      "\\textbf{REGISTERFILE}\t & 0.04 & 0 \\\\\n",
      "\\textbf{CSR}\t & 0.04 & 0 \\\\\n",
      "\\textbf{MULTICYCLE_ALU}\t & 0.04 & 0 \\\\\n",
      "\\textbf{FPU}\t & 0.04 & 0 \\\\\n",
      "\\textbf{MBOX}\t & 0.04 & 0 \\\\\n",
      "\\textbf{BPU}\t & 0.0 & 0 \\\\\n",
      "\\textbf{ICACHE}\t & 0.0 & 0 \\\\\n",
      "\\textbf{ITLB}\t & 0.0 & 0 \\\\\n",
      "\\textbf{DTLB}\t & 0.04 & 0 \\\\\n"
     ]
    }
   ],
   "source": [
    "# Data for LaTeX table.\n",
    "def table_gen():\n",
    "    algorithm = \"des\"\n",
    "    method = \"svf\"\n",
    "    #oracles = [\"column\", \"or\", \"row\"]\n",
    "    oracles = [\"sbox\"]\n",
    "    print(oracles)\n",
    "    for module in modules:\n",
    "        m_name = module.split(\".\")[-1].upper()\n",
    "        s = \"\\\\textbf{\" + m_name + \"}\\t\"\n",
    "        for oracle in oracles:\n",
    "            s = s\n",
    "            data = get_json_results(algorithm, method, module, oracle)\n",
    "            max_value = data['max_svf']\n",
    "            leaks = data['leak_count']\n",
    "            s = s + \" & \" + str(round(max_value, 2)) + \" & \" + str(leaks)\n",
    "        s = s + \" \\\\\\\\\"\n",
    "        print(s)\n",
    "table_gen()"
   ]
  },
  {
   "cell_type": "code",
   "execution_count": 5,
   "id": "33a50390-7d35-4f17-9dc3-06b3488b27a3",
   "metadata": {},
   "outputs": [],
   "source": [
    "def gen_plot_data(_dict):\n",
    "    keys = []\n",
    "    values = []\n",
    "    for t in _dict:\n",
    "        i = int(t)\n",
    "        keys.append(i)\n",
    "        values.append(_dict[t])\n",
    "    return (keys, values)"
   ]
  },
  {
   "cell_type": "code",
   "execution_count": 6,
   "id": "72fe458f-6746-4ce8-afc9-6e866b47ad77",
   "metadata": {},
   "outputs": [],
   "source": [
    "# Plots for different Ns\n",
    "def plot_N():\n",
    "    module = \"TOP.mkTbSoc.soc_soc.ccore.riscv.stage3.multicycle_alu\"\n",
    "    Ns = [4, 8, 16, 32, 64, 128, 256]\n",
    "    n_results_path = os.path.join(original_path, \"different_N\")\n",
    "    n_plot_path = os.path.join(plots_path, \"different_N\")\n",
    "    make_dir(n_plot_path)\n",
    "    \n",
    "    for i, nn in enumerate(Ns):\n",
    "        fig = plt.figure()\n",
    "        path = os.path.join(n_results_path, \"json\", module, )\n",
    "        filename = \"svf_aes_sbox_\" + str(nn) + \".json\"\n",
    "        v = open_json(path, filename)['values']\n",
    "        k, v = gen_plot_data(v)\n",
    "\n",
    "        #plt.plot(k, v,  marker=marker_types[i], linewidth=2, markerfacecolor=\"red\", mec=\"red\", markersize=3)\n",
    "        plt.scatter(k, v,  marker=marker_types[0], facecolors='none', edgecolors=marker_colours[0])\n",
    "        plt.axhline(y = 0.6, color = 'darkred', linestyle = ':')\n",
    "        plt.axhline(y = 0.3, color = 'gold', linestyle = ':')\n",
    "        plt.axhline(y = -0.6, color = 'darkred', linestyle = ':')\n",
    "        plt.axhline(y = -0.3, color = 'gold', linestyle = ':')\n",
    "        plt.xlim(xmin=0)\n",
    "        plt.ylim(ymin=-1.1, ymax=1.1)\n",
    "        plt.ylabel('SVF score')\n",
    "        plt.xlabel('Cycle')\n",
    "\n",
    "        file_path = os.path.join(n_plot_path, str(nn) + \".\" + file_type)\n",
    "        if dpa_b:\n",
    "            plt.savefig(file_path, format=file_type, dpi=my_dpi)\n",
    "        else:\n",
    "            plt.savefig(file_path, format=file_type)\n",
    "        plt.cla()\n",
    "        plt.clf()\n",
    "#plot_N()"
   ]
  },
  {
   "cell_type": "code",
   "execution_count": 7,
   "id": "e016b45c-290e-436c-b21e-a568e26041b9",
   "metadata": {},
   "outputs": [],
   "source": [
    "# ORACLE ANALYSIS\n",
    "def plot_oracle():\n",
    "    method = \"svf\"\n",
    "    algorithm = \"aes\"\n",
    "    oracles = get_oracles(algorithm)\n",
    "    oracle_plot_path = os.path.join(plots_path, \"oracle_analysis\")\n",
    "    make_dir(oracle_plot_path)\n",
    "    for module in modules:\n",
    "        m_name = module.split(\".\")[-1]\n",
    "\n",
    "        fig = plt.figure()\n",
    "        plt.axhline(y = 0.6, color = 'darkred', linestyle = ':')\n",
    "        plt.axhline(y = 0.3, color = 'gold', linestyle = ':')\n",
    "        plt.ylabel('SVF score')\n",
    "        plt.xlabel('Cycle')\n",
    "\n",
    "        for i, oracle in enumerate(oracles):\n",
    "            values = get_json_results(algorithm, method, module, oracle)['values']\n",
    "            k, v = gen_plot_data(values)\n",
    "            if oracle == \"ro\":\n",
    "                oracle = \"robyte1\"\n",
    "            if oracle == \"xor\":\n",
    "                oracle = \"xorbyte1\"\n",
    "#            plt.scatter(k, v,  marker='D', s=0.1, label = oracle)\n",
    "            plt.scatter(k, v,  marker=marker_types[i], label = oracle, facecolors='none', edgecolors=marker_colours[i])\n",
    "        plt.suptitle(m_name)\n",
    "        plt.xlim(xmin=get_xmin(algorithm), xmax=get_xmax(algorithm))\n",
    "        plt.legend()\n",
    "        file_path = os.path.join(oracle_plot_path, m_name + \".\" + file_type)\n",
    "        if dpa_b:\n",
    "            plt.savefig(file_path, format=file_type, dpi=my_dpi)\n",
    "        else:\n",
    "            plt.savefig(file_path, format=file_type)\n",
    "        plt.cla()\n",
    "        plt.clf()"
   ]
  },
  {
   "cell_type": "code",
   "execution_count": 8,
   "id": "6715f2c1-fc00-429a-932b-f0ad8a19d468",
   "metadata": {
    "tags": []
   },
   "outputs": [],
   "source": [
    "def plot_algorithm():\n",
    "    method = \"svf\"\n",
    "    algorithm_plot_path = os.path.join(plots_path, \"algorithm_analysis\")\n",
    "    make_dir(algorithm_plot_path)\n",
    "    for algorithm in algorithms:\n",
    "        make_dir(os.path.join(algorithm_plot_path, algorithm))\n",
    "        oracles = get_oracles(algorithm)\n",
    "        for module in modules:\n",
    "            fig = plt.figure()\n",
    "            m_name = module.split(\".\")[-1]\n",
    "            for i, oracle in enumerate(oracles):\n",
    "                values = get_json_results(algorithm, method, module, oracle)['values']\n",
    "                k, v = gen_plot_data(values)\n",
    "                plt.scatter(k, v, marker=marker_types[i], label = oracle, facecolors='none', edgecolors=marker_colours[i])\n",
    "            plt.suptitle(m_name)\n",
    "            plt.ylabel('SVF score')\n",
    "            plt.xlabel('Cycle')\n",
    "            plt.xlim(xmin=get_xmin(algorithm), xmax=get_xmax(algorithm))\n",
    "            plt.ylim(ymax=1.1)\n",
    "            plt.axhline(y = 0.6, color = 'darkred', linestyle = ':')\n",
    "            plt.axhline(y = 0.3, color = 'gold', linestyle = ':')\n",
    "            plt.legend()\n",
    "            \n",
    "            file_path = os.path.join(algorithm_plot_path, algorithm, m_name  + \".\" + file_type)\n",
    "            if dpa_b:\n",
    "                plt.savefig(file_path, format=file_type, dpi=my_dpi)\n",
    "            else:\n",
    "                plt.savefig(file_path, format=file_type)\n",
    "            plt.cla()\n",
    "            plt.clf()\n",
    "            plt.close()"
   ]
  },
  {
   "cell_type": "code",
   "execution_count": 9,
   "id": "a83f7263-0846-4c2d-ac3e-94a9cbbce929",
   "metadata": {},
   "outputs": [],
   "source": [
    "def get_svf_leakage(algorithm, module, oracle, threshold_min, threshold_max):\n",
    "    p = os.path.join(results_path, algorithm, \"svf\", \"json\", module)\n",
    "    f = \"svf_\" + algorithm + \"_\"+ oracle + \"_oracle_\" + str(N) + \".json\"\n",
    "    j = open_json(p, f)\n",
    "    vs = j[\"values\"]\n",
    "    cycles = []\n",
    "    for v in vs:\n",
    "        if threshold_max >= vs[v] >= threshold_min:\n",
    "            cycles.append(v)\n",
    "    return cycles"
   ]
  },
  {
   "cell_type": "code",
   "execution_count": 10,
   "id": "c43eb083-bf88-467a-ae56-5b7f08aa950a",
   "metadata": {},
   "outputs": [],
   "source": [
    "def gen_plot_data(_dict):\n",
    "    keys = []\n",
    "    values = []\n",
    "    for t in _dict:\n",
    "        i = int(t)\n",
    "        keys.append(i)\n",
    "        values.append(_dict[t])\n",
    "    return (keys, values)"
   ]
  },
  {
   "cell_type": "code",
   "execution_count": 11,
   "id": "7ad71c13-b050-4ef7-8d08-7ad9560e7e2a",
   "metadata": {},
   "outputs": [],
   "source": [
    "def split_leakage(values, threshold_min, threshold_max):\n",
    "    cycles = []\n",
    "    out = values.copy()\n",
    "    for v in values:\n",
    "        if threshold_max >= values[v] >= threshold_min:\n",
    "            cycles.append(v) \n",
    "    in_ = ([],[])\n",
    "    greys = []\n",
    "    for t in cycles:\n",
    "        i = int(t)\n",
    "        try:\n",
    "            in_[1].append(values[t])\n",
    "            in_[0].append(i)\n",
    "        except KeyError:\n",
    "            pass\n",
    "        try:\n",
    "            out.pop(t, None)\n",
    "        except KeyError:\n",
    "            pass\n",
    "    return in_, out"
   ]
  },
  {
   "cell_type": "code",
   "execution_count": 12,
   "id": "e475ac89-d318-4fe1-98b7-0ab046323a09",
   "metadata": {},
   "outputs": [],
   "source": [
    "def plot_method(algorithm, module):\n",
    "    fig = plt.figure()\n",
    "    m_name = module.split(\".\")[-1]\n",
    "    # Get TVLA values\n",
    "    tvla_values = get_json_results(algorithm, \"tvla\", module, \"\")['values']\n",
    "    tvla_noleaks, tvla_leaks = split_leakage(tvla_values, -4.49999999, 4.4999999999)\n",
    "    k2, v2 = gen_plot_data(tvla_leaks)\n",
    "    plt.scatter(k2, v2,  marker=\".\", facecolors='royalblue', edgecolors=\"royalblue\")\n",
    "    plt.scatter(tvla_noleaks[0], tvla_noleaks[1],  marker=\".\",  facecolors='lightgrey', edgecolors=\"lightgrey\")\n",
    "    oracles = get_oracles(algorithm)\n",
    "    for idx, oracle in enumerate(oracles):\n",
    "        # Get SVF values of oracle.\n",
    "        svf_values = get_json_results(algorithm, \"svf\", module, oracle)['values']\n",
    "        \n",
    "        # Find yellow cycles and red cycles of oracle.\n",
    "        yellow_cycles,_ = split_leakage(svf_values, 0.3, 0.59999999999999)[0]\n",
    "        red_cycles,_ = split_leakage(svf_values, 0.6, 1.0)[0]\n",
    "\n",
    "        \n",
    "        # Color these yellow and red cycles in tvla.\n",
    "        k = []\n",
    "        v = []\n",
    "        for yellow_cycle in yellow_cycles:\n",
    "            try:\n",
    "                tvla_value = tvla_values[str(yellow_cycle)]\n",
    "                k.append(yellow_cycle)\n",
    "                v.append(tvla_value)\n",
    "            except KeyError:\n",
    "                pass \n",
    "        plt.scatter(k, v,  marker=marker_types[idx], facecolors='yellow', edgecolors=\"black\")   \n",
    "        \n",
    "        red_keys = []\n",
    "        red_values = []\n",
    "        for red_cycle in red_cycles:\n",
    "            try:\n",
    "                tvla_value = tvla_values[str(red_cycle)]\n",
    "                red_keys.append(red_cycle)\n",
    "                red_values.append(tvla_value)\n",
    "            except KeyError:\n",
    "                pass \n",
    "        plt.scatter(red_keys, red_values,  marker=marker_types[idx], facecolors='red', edgecolors=\"black\") \n",
    "        \n",
    "    lines = []\n",
    "    for i, oracle in enumerate(oracles):\n",
    "        if oracle == \"ro\":\n",
    "            oracle = \"robyte1\"\n",
    "        if oracle == \"xor\":\n",
    "            oracle = \"xorbyte1\"\n",
    "        line = mlines.Line2D([], [], marker=marker_types[i], label=oracle, linewidth=0, color='black', fillstyle=\"none\")\n",
    "        lines.append(line)\n",
    "    plt.suptitle(m_name)\n",
    "    plt.legend(handles=lines, loc=1)\n",
    "    plt.ylabel('t-score')\n",
    "    plt.xlabel('Cycle')\n",
    "    plt.xlim(xmin=get_xmin(algorithm), xmax=get_xmax(algorithm))\n",
    "    plt.axhline(y = 4.5, color = 'darkred', linestyle = ':')\n",
    "    plt.axhline(y = -4.5, color = 'darkred', linestyle = ':')\n",
    "    \n",
    "    #file_path = os.path.join(plots_path,  \"svf_tvla_\" + algorithm + \"_\" + m_name + \".\" + file_type)\n",
    "    \n",
    "    file_path = os.path.join(p, \"tvla_\" + m_name  + \".\" + file_type)\n",
    "    plt.savefig(file_path, format=file_type)\n",
    "    plt.cla()\n",
    "    plt.clf()\n",
    "    plt.close()\n",
    "#plot_method(algorithms[0], modules[2])"
   ]
  },
  {
   "cell_type": "code",
   "execution_count": 13,
   "id": "40eb5065-ddbc-48a1-838c-3c4065ed0566",
   "metadata": {},
   "outputs": [
    {
     "data": {
      "text/plain": [
       "<Figure size 432x288 with 0 Axes>"
      ]
     },
     "metadata": {},
     "output_type": "display_data"
    },
    {
     "data": {
      "text/plain": [
       "<Figure size 432x288 with 0 Axes>"
      ]
     },
     "metadata": {},
     "output_type": "display_data"
    },
    {
     "data": {
      "text/plain": [
       "<Figure size 432x288 with 0 Axes>"
      ]
     },
     "metadata": {},
     "output_type": "display_data"
    },
    {
     "data": {
      "text/plain": [
       "<Figure size 432x288 with 0 Axes>"
      ]
     },
     "metadata": {},
     "output_type": "display_data"
    },
    {
     "data": {
      "text/plain": [
       "<Figure size 432x288 with 0 Axes>"
      ]
     },
     "metadata": {},
     "output_type": "display_data"
    },
    {
     "data": {
      "text/plain": [
       "<Figure size 432x288 with 0 Axes>"
      ]
     },
     "metadata": {},
     "output_type": "display_data"
    },
    {
     "data": {
      "text/plain": [
       "<Figure size 432x288 with 0 Axes>"
      ]
     },
     "metadata": {},
     "output_type": "display_data"
    },
    {
     "data": {
      "text/plain": [
       "<Figure size 432x288 with 0 Axes>"
      ]
     },
     "metadata": {},
     "output_type": "display_data"
    },
    {
     "data": {
      "text/plain": [
       "<Figure size 432x288 with 0 Axes>"
      ]
     },
     "metadata": {},
     "output_type": "display_data"
    },
    {
     "data": {
      "text/plain": [
       "<Figure size 432x288 with 0 Axes>"
      ]
     },
     "metadata": {},
     "output_type": "display_data"
    },
    {
     "data": {
      "text/plain": [
       "<Figure size 432x288 with 0 Axes>"
      ]
     },
     "metadata": {},
     "output_type": "display_data"
    },
    {
     "data": {
      "text/plain": [
       "<Figure size 432x288 with 0 Axes>"
      ]
     },
     "metadata": {},
     "output_type": "display_data"
    },
    {
     "data": {
      "text/plain": [
       "<Figure size 432x288 with 0 Axes>"
      ]
     },
     "metadata": {},
     "output_type": "display_data"
    },
    {
     "data": {
      "text/plain": [
       "<Figure size 432x288 with 0 Axes>"
      ]
     },
     "metadata": {},
     "output_type": "display_data"
    },
    {
     "data": {
      "text/plain": [
       "<Figure size 432x288 with 0 Axes>"
      ]
     },
     "metadata": {},
     "output_type": "display_data"
    },
    {
     "data": {
      "text/plain": [
       "<Figure size 432x288 with 0 Axes>"
      ]
     },
     "metadata": {},
     "output_type": "display_data"
    },
    {
     "data": {
      "text/plain": [
       "<Figure size 432x288 with 0 Axes>"
      ]
     },
     "metadata": {},
     "output_type": "display_data"
    }
   ],
   "source": [
    "make_dir(plots_path)\n",
    "plot_N()\n",
    "plot_oracle()\n",
    "plot_algorithm()\n",
    "\n",
    "for algorithm in algorithms:\n",
    "    p = os.path.join(plots_path, \"method_analysis\", algorithm)\n",
    "    make_dir(p)\n",
    "    for module in modules:\n",
    "        plot_method(algorithm, module)"
   ]
  }
 ],
 "metadata": {
  "kernelspec": {
   "display_name": "Python 3",
   "language": "python",
   "name": "python3"
  },
  "language_info": {
   "codemirror_mode": {
    "name": "ipython",
    "version": 3
   },
   "file_extension": ".py",
   "mimetype": "text/x-python",
   "name": "python",
   "nbconvert_exporter": "python",
   "pygments_lexer": "ipython3",
   "version": "3.7.0"
  }
 },
 "nbformat": 4,
 "nbformat_minor": 5
}
